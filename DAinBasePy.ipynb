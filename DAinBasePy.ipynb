{
 "cells": [
  {
   "attachments": {},
   "cell_type": "markdown",
   "metadata": {},
   "source": [
    "# Loading Data from Files"
   ]
  },
  {
   "attachments": {},
   "cell_type": "markdown",
   "metadata": {},
   "source": [
    "Practice opening CSV and JSON file formats and loading them into sensible objects using the `csv` and `json` libraries and perform additional analysis"
   ]
  },
  {
   "cell_type": "markdown",
   "metadata": {},
   "source": [
    "## CSV Files"
   ]
  },
  {
   "attachments": {},
   "cell_type": "markdown",
   "metadata": {},
   "source": [
    "Key data analysis tasks:\n",
    "1. Counting\n",
    "2. Measuring central tendency\n",
    "3. Finding the maximum and minimum"
   ]
  },
  {
   "cell_type": "code",
   "execution_count": 1,
   "metadata": {},
   "outputs": [],
   "source": [
    "import csv"
   ]
  },
  {
   "cell_type": "code",
   "execution_count": 12,
   "metadata": {},
   "outputs": [
    {
     "name": "stdout",
     "output_type": "stream",
     "text": [
      "Total apple tree yields: 5000\n",
      "Average apple tree yields: 42.41\n",
      "Maximum apple tree yields: 65.55\n",
      "Minimum apple tree yields: 21.93\n"
     ]
    }
   ],
   "source": [
    "with open(\"apple_orchard.csv\") as f:\n",
    "    apple_orchard_data = list(csv.DictReader(f))\n",
    "    apple_tree_yields = [float(x[\"yield\"]) for x in apple_orchard_data]\n",
    "    print(f\"Total apple tree yields: {len(apple_tree_yields)}\")\n",
    "    print(f\"Average apple tree yields: {round(sum(apple_tree_yields) / len(apple_tree_yields), 2)}\")\n",
    "    print(f\"Maximum apple tree yields: {round(max(apple_tree_yields), 2)}\")\n",
    "    print(f\"Minimum apple tree yields: {round(min(apple_tree_yields), 2)}\")\n"
   ]
  },
  {
   "attachments": {},
   "cell_type": "markdown",
   "metadata": {},
   "source": [
    "## JSON Files"
   ]
  },
  {
   "attachments": {},
   "cell_type": "markdown",
   "metadata": {},
   "source": [
    "JavaScript object notation\n",
    "\n",
    "This code loads a dataset of interactions btwn Twitter users\n",
    "\n",
    "Each user is represented as a \"node\"\n",
    "\n",
    "When one tweets at another, the connection is represented as a \"link\"\n"
   ]
  },
  {
   "attachments": {},
   "cell_type": "markdown",
   "metadata": {},
   "source": [
    "### Challenge:"
   ]
  },
  {
   "cell_type": "markdown",
   "metadata": {},
   "source": [
    "Find the users who were:\n",
    "1. \"sources\" (the user initiating a tweet that tags someone else) most often\n",
    "2. \"targets\" (the user being tagged in a tweet) most often"
   ]
  },
  {
   "cell_type": "code",
   "execution_count": 16,
   "metadata": {},
   "outputs": [],
   "source": [
    "import json"
   ]
  },
  {
   "cell_type": "code",
   "execution_count": 22,
   "metadata": {},
   "outputs": [
    {
     "name": "stdout",
     "output_type": "stream",
     "text": [
      "There are 99 users in this dataset\n",
      "\n",
      "Top 5 Sources:\n",
      "User 232762581\t| 23 Tweets\n",
      "User 49076695\t| 20 Tweets\n",
      "User 523173553\t| 19 Tweets\n",
      "User 24883888\t| 17 Tweets\n",
      "User 53318310\t| 16 Tweets\n",
      "\n",
      "Top 5 Targets\n",
      "User 169686021\t| 13 Tweets\n",
      "User 23642374\t| 12 Tweets\n",
      "User 25797630\t| 11 Tweets\n",
      "User 25626212\t| 11 Tweets\n",
      "User 21648607\t| 10 Tweets\n"
     ]
    }
   ],
   "source": [
    "def build_freq_table(key, links):\n",
    "    \"\"\"\n",
    "    build_freq_table() takes a key and list of dictionaries, and \n",
    "    returns the count of the key that appeared in the dictionaries\n",
    "    \"\"\"\n",
    "    table = {}\n",
    "    for link in links:\n",
    "        user = link[key]\n",
    "        table[user] = table.get(user, 0) + 1\n",
    "    return table \n",
    "\n",
    "\n",
    "def print_top_5(table):\n",
    "    \"\"\"\n",
    "    print_top_5() takes the sources or targets freg table, and returns\n",
    "    the top 5 users and sorted by the number of tweets\n",
    "    \"\"\"\n",
    "    for k, v in sorted(table.items(), key=lambda x:x[1], reverse=True)[:5]:\n",
    "        print(f\"User {k}\\t| {v} Tweets\")\n",
    "\n",
    "with open(\"twitter_graph.json\") as f:\n",
    "    twitter_data = json.load(f)\n",
    "    print(f\"There are {len(twitter_data['nodes'])} users in this dataset\")\n",
    "    print()\n",
    "\n",
    "    links = twitter_data[\"links\"]\n",
    "    sources = build_freq_table(\"source\", links)\n",
    "    targets = build_freq_table(\"target\", links)\n",
    "\n",
    "    print(\"Top 5 Sources:\")\n",
    "    print_top_5(sources)\n",
    "    print()\n",
    "    print(\"Top 5 Targets\")\n",
    "    print_top_5(targets)"
   ]
  }
 ],
 "metadata": {
  "kernelspec": {
   "display_name": "Python 3",
   "language": "python",
   "name": "python3"
  },
  "language_info": {
   "codemirror_mode": {
    "name": "ipython",
    "version": 3
   },
   "file_extension": ".py",
   "mimetype": "text/x-python",
   "name": "python",
   "nbconvert_exporter": "python",
   "pygments_lexer": "ipython3",
   "version": "3.10.4"
  },
  "orig_nbformat": 4,
  "vscode": {
   "interpreter": {
    "hash": "26de051ba29f2982a8de78e945f0abaf191376122a1563185a90213a26c5da77"
   }
  }
 },
 "nbformat": 4,
 "nbformat_minor": 2
}
